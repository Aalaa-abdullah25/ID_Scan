{
 "cells": [
  {
   "cell_type": "code",
   "execution_count": 1,
   "metadata": {},
   "outputs": [
    {
     "name": "stdout",
     "output_type": "stream",
     "text": [
      "Collecting pytesseract\n",
      "  Downloading pytesseract-0.3.13-py3-none-any.whl.metadata (11 kB)\n",
      "Requirement already satisfied: packaging>=21.3 in c:\\users\\aalaa\\appdata\\roaming\\python\\python312\\site-packages (from pytesseract) (24.2)\n",
      "Requirement already satisfied: Pillow>=8.0.0 in c:\\users\\aalaa\\anaconda3\\lib\\site-packages (from pytesseract) (10.3.0)\n",
      "Downloading pytesseract-0.3.13-py3-none-any.whl (14 kB)\n",
      "Installing collected packages: pytesseract\n",
      "Successfully installed pytesseract-0.3.13\n"
     ]
    }
   ],
   "source": [
    "! pip install pytesseract"
   ]
  },
  {
   "cell_type": "code",
   "execution_count": null,
   "metadata": {},
   "outputs": [],
   "source": [
    "\"C:\\Program Files\\Tesseract-OCR\\tesseract.exe\"\n",
    "\"E:\\Route\\ZIADA AI\\Session15 -- OpenCV + Git & GitHub + Project1 [filters_app] + Project2 [Business Card Scanner] + Project3 [Object Tracking]\\Part2 -- Git & GitHub + Project2 [Business Card Scanner] + Project3 [Object Tracking]\\Project 1\\ID_com_scanner.py\""
   ]
  },
  {
   "cell_type": "code",
   "execution_count": 7,
   "metadata": {},
   "outputs": [
    {
     "name": "stdout",
     "output_type": "stream",
     "text": [
      "Overwriting ID_com_scanner.py\n"
     ]
    }
   ],
   "source": [
    "%%writefile ID_com_scanner.py\n",
    "import streamlit as st\n",
    "import cv2\n",
    "import pytesseract\n",
    "from PIL import Image\n",
    "import numpy as np\n",
    "\n",
    "\n",
    "st.title('ID Scanner Application')\n",
    "uploaded_image = st.file_uploader('Please, Upload an Image...', type = ['jpg', 'jpeg', 'png' , 'webp'])\n",
    "\n",
    "pytesseract.pytesseract.tesseract_cmd = r\"C:\\Program Files\\Tesseract-OCR\\tesseract.exe\"\n",
    "\n",
    "def Extrat_text_fun(img):\n",
    "    text = pytesseract.image_to_string(img) \n",
    "    return text\n",
    "\n",
    "if uploaded_image is not None:\n",
    "    img = Image.open(uploaded_image)\n",
    "    img_array = np.array(img)\n",
    "    st.image(img_array, caption = 'Upload Image')\n",
    "    \n",
    "    with st.spinner(\"Extracting text from Image\"):\n",
    "        ext_text = Extrat_text_fun(img_array)\n",
    "        # st.write(ext_text)\n",
    "        st.subheader(\"Extracted Text:\")\n",
    "        text_list = ext_text.splitlines()\n",
    "        # st.write(text_list)\n",
    "        st.write('Organiztion Name :',text_list[0]+ ' ' + text_list[1])\n",
    "        st.write('Employee Name :',text_list[8])\n",
    "        st.write(text_list[3])\n",
    "        st.write(text_list[4])\n",
    "        st.write(text_list[5])\n",
    "        st.write(text_list[6])\n",
    "        "
   ]
  },
  {
   "cell_type": "code",
   "execution_count": null,
   "metadata": {},
   "outputs": [],
   "source": []
  },
  {
   "cell_type": "code",
   "execution_count": null,
   "metadata": {},
   "outputs": [],
   "source": []
  },
  {
   "cell_type": "code",
   "execution_count": null,
   "metadata": {},
   "outputs": [],
   "source": []
  },
  {
   "cell_type": "code",
   "execution_count": null,
   "metadata": {},
   "outputs": [],
   "source": []
  }
 ],
 "metadata": {
  "kernelspec": {
   "display_name": "base",
   "language": "python",
   "name": "python3"
  },
  "language_info": {
   "codemirror_mode": {
    "name": "ipython",
    "version": 3
   },
   "file_extension": ".py",
   "mimetype": "text/x-python",
   "name": "python",
   "nbconvert_exporter": "python",
   "pygments_lexer": "ipython3",
   "version": "3.12.4"
  }
 },
 "nbformat": 4,
 "nbformat_minor": 2
}
